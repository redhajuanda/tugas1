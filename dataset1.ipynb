{
 "cells": [
  {
   "cell_type": "markdown",
   "metadata": {},
   "source": [
    "# NIM : 1301168570\n",
    "# Nama : Redha Arifan Juanda\n",
    "# Kelas : IF-GAB-02"
   ]
  },
  {
   "cell_type": "code",
   "execution_count": 65,
   "metadata": {
    "collapsed": true
   },
   "outputs": [],
   "source": [
    "import pandas as pd\n",
    "import numpy as np\n",
    "import matplotlib.pyplot as plt"
   ]
  },
  {
   "cell_type": "code",
   "execution_count": 154,
   "metadata": {},
   "outputs": [
    {
     "data": {
      "text/html": [
       "<div>\n",
       "<style>\n",
       "    .dataframe thead tr:only-child th {\n",
       "        text-align: right;\n",
       "    }\n",
       "\n",
       "    .dataframe thead th {\n",
       "        text-align: left;\n",
       "    }\n",
       "\n",
       "    .dataframe tbody tr th {\n",
       "        vertical-align: top;\n",
       "    }\n",
       "</style>\n",
       "<table border=\"1\" class=\"dataframe\">\n",
       "  <thead>\n",
       "    <tr style=\"text-align: right;\">\n",
       "      <th></th>\n",
       "      <th>x</th>\n",
       "      <th>y</th>\n",
       "    </tr>\n",
       "  </thead>\n",
       "  <tbody>\n",
       "    <tr>\n",
       "      <th>0</th>\n",
       "      <td>-2.907</td>\n",
       "      <td>61.108</td>\n",
       "    </tr>\n",
       "    <tr>\n",
       "      <th>1</th>\n",
       "      <td>-2.745</td>\n",
       "      <td>56.501</td>\n",
       "    </tr>\n",
       "    <tr>\n",
       "      <th>2</th>\n",
       "      <td>-2.637</td>\n",
       "      <td>55.173</td>\n",
       "    </tr>\n",
       "    <tr>\n",
       "      <th>3</th>\n",
       "      <td>-2.420</td>\n",
       "      <td>46.509</td>\n",
       "    </tr>\n",
       "    <tr>\n",
       "      <th>4</th>\n",
       "      <td>-2.276</td>\n",
       "      <td>33.646</td>\n",
       "    </tr>\n",
       "  </tbody>\n",
       "</table>\n",
       "</div>"
      ],
      "text/plain": [
       "       x       y\n",
       "0 -2.907  61.108\n",
       "1 -2.745  56.501\n",
       "2 -2.637  55.173\n",
       "3 -2.420  46.509\n",
       "4 -2.276  33.646"
      ]
     },
     "execution_count": 154,
     "metadata": {},
     "output_type": "execute_result"
    }
   ],
   "source": [
    "dataset = pd.read_csv(\"dataset.csv\")\n",
    "dataset = dataset.iloc[:,1:3]\n",
    "dataset.head()"
   ]
  },
  {
   "cell_type": "code",
   "execution_count": 176,
   "metadata": {
    "collapsed": true
   },
   "outputs": [],
   "source": [
    "def normalEquation(X,Y):\n",
    "    xTx = X.T.dot(X)\n",
    "    XtX = np.linalg.inv(xTx)\n",
    "    XtX_xT = XtX.dot(X.T)\n",
    "    theta = XtX_xT.dot(Y)\n",
    "    return theta"
   ]
  },
  {
   "cell_type": "markdown",
   "metadata": {},
   "source": [
    "1.Jika dibangun model regresi yi=f(xi) =w0+w1xi+w2x2i maka dihasilkan prakiraan weight vectorˆw= (w0, w1, w2) = (1.591,−12.824,−7.144)"
   ]
  },
  {
   "cell_type": "code",
   "execution_count": 208,
   "metadata": {},
   "outputs": [
    {
     "data": {
      "text/plain": [
       "array([  1.59002205, -18.72499025,  -1.41811603])"
      ]
     },
     "execution_count": 208,
     "metadata": {},
     "output_type": "execute_result"
    }
   ],
   "source": [
    "# matrix_x = dataset['x'].as_matrix()\n",
    "Y = dataset['y'].as_matrix()\n",
    "x = pd.DataFrame(dataset['x'])\n",
    "x['kuadrat'] = pow(dataset['x'],2)\n",
    "x.insert(0, 'const', 1) \n",
    "X = x.as_matrix()\n",
    "normalEquation(X,Y)"
   ]
  },
  {
   "cell_type": "markdown",
   "metadata": {},
   "source": [
    "<b> SALAH"
   ]
  },
  {
   "cell_type": "markdown",
   "metadata": {},
   "source": [
    "2.Regresi multivariate non-linear dan regresi univariate linear keduanya lebih baik daripada regresi univariate non-linear jika digunakan untuk pemodelan training set 1"
   ]
  },
  {
   "cell_type": "code",
   "execution_count": 92,
   "metadata": {},
   "outputs": [
    {
     "data": {
      "image/png": "[encoded data removed]",
      "text/plain": [
       "<matplotlib.figure.Figure at 0x878f570>"
      ]
     },
     "metadata": {},
     "output_type": "display_data"
    }
   ],
   "source": [
    "w = -18.757\n",
    "a = -2.745\n",
    "plt.plot(x, w* x + a, color='red')\n",
    "plt.scatter(dataset['x'],dataset['y'],color='g')\n",
    "plt.xlabel('x')\n",
    "plt.ylabel('y')\n",
    "plt.legend()\n",
    "plt.show()"
   ]
  },
  {
   "cell_type": "markdown",
   "metadata": {},
   "source": [
    "Dari Gaphric Data Training 1 terlihat bahwa data adalah non-linear, oleh karena itu, lebih tepat menggunakan regresi univariate non-linear"
   ]
  },
  {
   "cell_type": "markdown",
   "metadata": {
    "collapsed": true
   },
   "source": [
    "<b> SALAH"
   ]
  },
  {
   "cell_type": "markdown",
   "metadata": {},
   "source": [
    "3.Jika menggunakan model regresiyi=f(xi) = 21.274−10.608xi+ 0.921x2iuntuk 5 record/datates (xi, yi) secara berurutan antara lain (x1, y1) = (−2.864,73.128), (x2, y2) = (1.489,20.271),(x3, y3) = (−0.235,−3.220), (x4, y4) = (1.092,0.347), dan (x5, y5) = (2.898,−75.691) maka didap-atkanSSEtes= 6666.126"
   ]
  },
  {
   "cell_type": "code",
   "execution_count": 205,
   "metadata": {},
   "outputs": [
    {
     "data": {
      "text/plain": [
       "6665.903150770562"
      ]
     },
     "execution_count": 205,
     "metadata": {},
     "output_type": "execute_result"
    }
   ],
   "source": [
    "tes = [[-2.864,73.12],[1.489,20.271],[-0.235,-3.220],[1.092,0.347],[2.898,-75.691]]\n",
    "tes = pd.DataFrame(tes,columns=['x', 'y'])\n",
    "tes['y_pred'] = 21.274-10.608*tes['x']+ (0.921*pow(tes['x'],2))\n",
    "tes['squared_error'] = pow(tes['y_pred']-tes['y'],2)\n",
    "tes['squared_error'].sum()"
   ]
  },
  {
   "cell_type": "markdown",
   "metadata": {},
   "source": [
    "<b> BENAR"
   ]
  },
  {
   "cell_type": "markdown",
   "metadata": {},
   "source": [
    "4.Salah satu model regresi multivariate linear adalah yi=f(xi) =−2.7xi+ 5.9, dan jika digunakan maka SSEtrain= 43454.587"
   ]
  },
  {
   "cell_type": "code",
   "execution_count": 1,
   "metadata": {},
   "outputs": [],
   "source": [
    "# tabel2 = pd.DataFrame(dataset)\n",
    "# tabel2['y_pred'] = -2.7*tabel2['x']+ 5.9\n",
    "# tabel2['squared_error'] = pow(tabel2['y_pred']-tabel2['y'],2)\n",
    "# tabel2['squared_error'].sum()"
   ]
  },
  {
   "cell_type": "markdown",
   "metadata": {},
   "source": [
    "fungsi yang diberikan adalah model regresi univariate, bukan multivariate"
   ]
  },
  {
   "cell_type": "markdown",
   "metadata": {},
   "source": [
    "<b> SALAH"
   ]
  },
  {
   "cell_type": "markdown",
   "metadata": {},
   "source": [
    "5.Jika dibangun model regresi yi=f(xi) =wxi+a maka w=−18.757 dana=−2.745"
   ]
  },
  {
   "cell_type": "code",
   "execution_count": 178,
   "metadata": {},
   "outputs": [
    {
     "data": {
      "text/plain": [
       "array([-18.75657813,  -2.74497709])"
      ]
     },
     "execution_count": 178,
     "metadata": {},
     "output_type": "execute_result"
    }
   ],
   "source": [
    "x = pd.DataFrame(dataset['x'])\n",
    "x['a'] =1 \n",
    "X = x.as_matrix()\n",
    "normalEquation(X,Y)"
   ]
  },
  {
   "cell_type": "markdown",
   "metadata": {},
   "source": [
    "<B> BENAR"
   ]
  },
  {
   "cell_type": "markdown",
   "metadata": {},
   "source": [
    "6.Jika dibangun model regresiyi=f(xi) =w0+w1xi+w2x2i+w3x3imaka dihasilkan prakiraanweight vectorˆw= (w0, w1, w2, w3) = (1.087,−0.844,−10.492,−9.198)."
   ]
  },
  {
   "cell_type": "code",
   "execution_count": 210,
   "metadata": {},
   "outputs": [
    {
     "data": {
      "text/plain": [
       "array([ 1.08935864, -0.84018704, -0.94324893, -3.11173536])"
      ]
     },
     "execution_count": 210,
     "metadata": {},
     "output_type": "execute_result"
    }
   ],
   "source": [
    "# matrix_x = dataset['x'].as_matrix()\n",
    "Y = dataset['y'].as_matrix()\n",
    "x = pd.DataFrame(dataset['x'])\n",
    "x['kuadrat'] = pow(dataset['x'],2)\n",
    "x['power3'] = pow(dataset['x'],3)\n",
    "x.insert(0, 'const', 1) \n",
    "X = x.as_matrix()\n",
    "# matrix_x.shape\n",
    "normalEquation(X,Y)"
   ]
  },
  {
   "cell_type": "markdown",
   "metadata": {},
   "source": [
    "<b> SALAH"
   ]
  }
 ],
 "metadata": {
  "kernelspec": {
   "display_name": "Python 3",
   "language": "python",
   "name": "python3"
  },
  "language_info": {
   "codemirror_mode": {
    "name": "ipython",
    "version": 3
   },
   "file_extension": ".py",
   "mimetype": "text/x-python",
   "name": "python",
   "nbconvert_exporter": "python",
   "pygments_lexer": "ipython3",
   "version": "3.6.3"
  }
 },
 "nbformat": 4,
 "nbformat_minor": 2
}
